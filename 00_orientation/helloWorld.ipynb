{
 "cells": [
  {
   "cell_type": "code",
   "execution_count": 4,
   "id": "8d2e981e",
   "metadata": {},
   "outputs": [
    {
     "name": "stdout",
     "output_type": "stream",
     "text": [
      "3科目の平均点は 83.33333333333333 点です\n"
     ]
    }
   ],
   "source": [
    "# 各科目の点数を変数として定義\n",
    "japanese = 85  # 国語\n",
    "math = 90      # 数学\n",
    "english = 75   # 英語\n",
    "\n",
    "# 平均点を計算\n",
    "average = (japanese + math + english) / 3\n",
    "\n",
    "# 結果を表示\n",
    "print(\"3科目の平均点は\", average, \"点です\")"
   ]
  },
  {
   "cell_type": "markdown",
   "id": "42d8cc16",
   "metadata": {},
   "source": [
    "# レッスン0\n",
    "\n",
    "- VS Codeの基本的な書き方\n",
    "\n"
   ]
  },
  {
   "cell_type": "code",
   "execution_count": 3,
   "id": "de77df6a",
   "metadata": {},
   "outputs": [
    {
     "name": "stdout",
     "output_type": "stream",
     "text": [
      "Hello! World!\n"
     ]
    }
   ],
   "source": [
    "print(\"Hello! World!\")"
   ]
  }
 ],
 "metadata": {
  "kernelspec": {
   "display_name": ".venv",
   "language": "python",
   "name": "python3"
  },
  "language_info": {
   "codemirror_mode": {
    "name": "ipython",
    "version": 3
   },
   "file_extension": ".py",
   "mimetype": "text/x-python",
   "name": "python",
   "nbconvert_exporter": "python",
   "pygments_lexer": "ipython3",
   "version": "3.13.3"
  }
 },
 "nbformat": 4,
 "nbformat_minor": 5
}
